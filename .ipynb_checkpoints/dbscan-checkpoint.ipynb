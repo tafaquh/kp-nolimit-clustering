{
 "cells": [
  {
   "cell_type": "code",
   "execution_count": 77,
   "metadata": {},
   "outputs": [],
   "source": [
    "from random import randint\n",
    "import math, numpy as np, copy\n",
    "import matplotlib.pyplot as plt\n",
    "\n",
    "# Varibles\n",
    "data = []\n",
    "eps = 2\n",
    "minPt = 4\n",
    "neighboor = {}"
   ]
  },
  {
   "cell_type": "code",
   "execution_count": 78,
   "metadata": {},
   "outputs": [],
   "source": [
    "for i in range(0,20):\n",
    "    data.append([randint(0,10), randint(0,10)])\n",
    "\n",
    "points = copy.deepcopy(data)"
   ]
  },
  {
   "cell_type": "code",
   "execution_count": 82,
   "metadata": {
    "scrolled": false
   },
   "outputs": [
    {
     "name": "stdout",
     "output_type": "stream",
     "text": [
      "[[6, 7], [6, 1], [6, 6], [3, 0], [3, 7], [1, 2], [4, 1], [4, 0], [8, 3], [0, 2], [1, 10], [4, 0], [5, 4], [9, 5], [7, 10], [9, 9], [0, 0], [2, 9], [3, 6], [9, 6]]\n",
      "key: [6, 7]\n",
      "\t-->[6, 7]\n",
      "\t-->[6, 6]\n",
      "key: [6, 6]\n",
      "\t-->[6, 6]\n",
      "key: [3, 0]\n",
      "\t-->[3, 0]\n",
      "\t-->[4, 1]\n",
      "key: [4, 1]\n",
      "\t-->[4, 1]\n",
      "\t-->[4, 0]\n",
      "key: [4, 0]\n",
      "\t-->[4, 0]\n",
      "\t-->[4, 0]\n",
      "key: [1, 2]\n",
      "\t-->[1, 2]\n",
      "\t-->[0, 2]\n",
      "key: [0, 2]\n",
      "\t-->[0, 2]\n",
      "key: [1, 10]\n",
      "\t-->[1, 10]\n",
      "\t-->[2, 9]\n",
      "key: [2, 9]\n",
      "\t-->[2, 9]\n",
      "key: [9, 5]\n",
      "\t-->[9, 5]\n",
      "\t-->[9, 6]\n",
      "key: [9, 6]\n",
      "\t-->[9, 6]\n",
      "key: [9, 9]\n",
      "\t-->[9, 9]\n",
      "key: [3, 6]\n",
      "\t-->[3, 6]\n",
      "\t-->[3, 7]\n",
      "key: [3, 7]\n",
      "\t-->[3, 7]\n",
      "key: [8, 3]\n",
      "\t-->0\n",
      "key: [7, 10]\n",
      "\t-->0\n"
     ]
    },
    {
     "data": {
      "image/png": "[encoded data removed]",
      "text/plain": [
       "<matplotlib.figure.Figure at 0x97bf570>"
      ]
     },
     "metadata": {},
     "output_type": "display_data"
    }
   ],
   "source": [
    "# Search Neighbor\n",
    "\n",
    "def searchNeighbors(point):\n",
    "    \n",
    "    points.remove(point)\n",
    "    \n",
    "    key = str(point)\n",
    "    sub = 0\n",
    "        \n",
    "    for item in points:\n",
    "        sub = np.subtract(item,point)\n",
    "        sub = math.pow((math.pow(math.fabs(sub[0]),2))+(math.pow(math.fabs(sub[1]),2)),0.5)\n",
    "        if(sub < eps):\n",
    "            #n.append([point, item])\n",
    "            \n",
    "            if key not in neighboor: neighboor[key] = [item]\n",
    "            else : neighboor[key].append(item)\n",
    "                \n",
    "            print([\"neighbor \"+str(point), item])\n",
    "            searchNeighbors(item)\n",
    "# dbscan iteration\n",
    "print(data)\n",
    "for datum in points:\n",
    "    searchNeighbors(datum)\n",
    "    \n",
    "for n in neighboor:\n",
    "    print(\"key: \"+n)\n",
    "    for item in neighboor[n]:\n",
    "        print(\"\\t-->\"+str(item))\n",
    "    \n",
    "for datum in data:\n",
    "    plt.plot(datum[0],datum[1], 'ro')\n",
    "plt.show()"
   ]
  },
  {
   "cell_type": "code",
   "execution_count": null,
   "metadata": {},
   "outputs": [],
   "source": []
  }
 ],
 "metadata": {
  "kernelspec": {
   "display_name": "Python 3",
   "language": "python",
   "name": "python3"
  },
  "language_info": {
   "codemirror_mode": {
    "name": "ipython",
    "version": 3
   },
   "file_extension": ".py",
   "mimetype": "text/x-python",
   "name": "python",
   "nbconvert_exporter": "python",
   "pygments_lexer": "ipython3",
   "version": "3.6.3"
  }
 },
 "nbformat": 4,
 "nbformat_minor": 2
}
